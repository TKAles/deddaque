{
 "cells": [
  {
   "cell_type": "code",
   "execution_count": 1,
   "metadata": {},
   "outputs": [],
   "source": [
    "from vimba import *\n",
    "import pyqtgraph as pg\n",
    "import matplotlib.pyplot as plt\n",
    "import numpy as np"
   ]
  },
  {
   "cell_type": "code",
   "execution_count": 2,
   "metadata": {},
   "outputs": [
    {
     "ename": "VimbaCameraError",
     "evalue": "Accessed Camera 'DEV_1AB22C0109A3' with invalid Mode 'AccessMode.Full'. Valid modes are: (<AccessMode.None_: 0>,)",
     "output_type": "error",
     "traceback": [
      "\u001b[1;31m---------------------------------------------------------------------------\u001b[0m",
      "\u001b[1;31mVimbaCError\u001b[0m                               Traceback (most recent call last)",
      "File \u001b[1;32mc:\\Users\\Thomas Ales\\.conda\\envs\\deddaq\\lib\\site-packages\\vimba\\camera.py:907\u001b[0m, in \u001b[0;36mCamera._open\u001b[1;34m(self)\u001b[0m\n\u001b[0;32m    906\u001b[0m \u001b[39mtry\u001b[39;00m:\n\u001b[1;32m--> 907\u001b[0m     call_vimba_c(\u001b[39m'\u001b[39;49m\u001b[39mVmbCameraOpen\u001b[39;49m\u001b[39m'\u001b[39;49m, \u001b[39mself\u001b[39;49m\u001b[39m.\u001b[39;49m__info\u001b[39m.\u001b[39;49mcameraIdString, \u001b[39mself\u001b[39;49m\u001b[39m.\u001b[39;49m__access_mode,\n\u001b[0;32m    908\u001b[0m                  byref(\u001b[39mself\u001b[39;49m\u001b[39m.\u001b[39;49m__handle))\n\u001b[0;32m    910\u001b[0m \u001b[39mexcept\u001b[39;00m VimbaCError \u001b[39mas\u001b[39;00m e:\n",
      "File \u001b[1;32mc:\\Users\\Thomas Ales\\.conda\\envs\\deddaq\\lib\\site-packages\\vimba\\util\\tracer.py:134\u001b[0m, in \u001b[0;36mTraceEnable.__call__.<locals>.wrapper\u001b[1;34m(*args, **kwargs)\u001b[0m\n\u001b[0;32m    133\u001b[0m \u001b[39melse\u001b[39;00m:\n\u001b[1;32m--> 134\u001b[0m     \u001b[39mreturn\u001b[39;00m func(\u001b[39m*\u001b[39margs, \u001b[39m*\u001b[39m\u001b[39m*\u001b[39mkwargs)\n",
      "File \u001b[1;32mc:\\Users\\Thomas Ales\\.conda\\envs\\deddaq\\lib\\site-packages\\vimba\\c_binding\\vimba_c.py:757\u001b[0m, in \u001b[0;36mcall_vimba_c\u001b[1;34m(func_name, *args)\u001b[0m\n\u001b[0;32m    756\u001b[0m \u001b[39mglobal\u001b[39;00m _lib_instance\n\u001b[1;32m--> 757\u001b[0m \u001b[39mgetattr\u001b[39;49m(_lib_instance, func_name)(\u001b[39m*\u001b[39;49margs)\n",
      "File \u001b[1;32mc:\\Users\\Thomas Ales\\.conda\\envs\\deddaq\\lib\\site-packages\\vimba\\c_binding\\vimba_c.py:675\u001b[0m, in \u001b[0;36m_eval_vmberror\u001b[1;34m(result, func, *args)\u001b[0m\n\u001b[0;32m    674\u001b[0m \u001b[39mif\u001b[39;00m result \u001b[39mnot\u001b[39;00m \u001b[39min\u001b[39;00m (VmbError\u001b[39m.\u001b[39mSuccess, \u001b[39mNone\u001b[39;00m):\n\u001b[1;32m--> 675\u001b[0m     \u001b[39mraise\u001b[39;00m VimbaCError(result)\n",
      "\u001b[1;31mVimbaCError\u001b[0m: VimbaCError(<VmbError.InvalidAccess: -6>)",
      "\nThe above exception was the direct cause of the following exception:\n",
      "\u001b[1;31mVimbaCameraError\u001b[0m                          Traceback (most recent call last)",
      "\u001b[1;32mc:\\Users\\Thomas Ales\\source\\repos\\deddaque\\vimbatest.ipynb Cell 2\u001b[0m in \u001b[0;36m<cell line: 2>\u001b[1;34m()\u001b[0m\n\u001b[0;32m      <a href='vscode-notebook-cell:/c%3A/Users/Thomas%20Ales/source/repos/deddaque/vimbatest.ipynb#W1sZmlsZQ%3D%3D?line=1'>2</a>\u001b[0m \u001b[39mwith\u001b[39;00m Vimba\u001b[39m.\u001b[39mget_instance() \u001b[39mas\u001b[39;00m vim:\n\u001b[0;32m      <a href='vscode-notebook-cell:/c%3A/Users/Thomas%20Ales/source/repos/deddaque/vimbatest.ipynb#W1sZmlsZQ%3D%3D?line=2'>3</a>\u001b[0m     cams \u001b[39m=\u001b[39m vim\u001b[39m.\u001b[39mget_all_cameras()\n\u001b[1;32m----> <a href='vscode-notebook-cell:/c%3A/Users/Thomas%20Ales/source/repos/deddaque/vimbatest.ipynb#W1sZmlsZQ%3D%3D?line=3'>4</a>\u001b[0m     \u001b[39mwith\u001b[39;00m cams[\u001b[39m0\u001b[39m] \u001b[39mas\u001b[39;00m cam:\n\u001b[0;32m      <a href='vscode-notebook-cell:/c%3A/Users/Thomas%20Ales/source/repos/deddaque/vimbatest.ipynb#W1sZmlsZQ%3D%3D?line=4'>5</a>\u001b[0m         \u001b[39mprint\u001b[39m(cam\u001b[39m.\u001b[39mget_id())\n\u001b[0;32m      <a href='vscode-notebook-cell:/c%3A/Users/Thomas%20Ales/source/repos/deddaque/vimbatest.ipynb#W1sZmlsZQ%3D%3D?line=5'>6</a>\u001b[0m         cam\u001b[39m.\u001b[39mExposureAuto\u001b[39m.\u001b[39mset(\u001b[39m'\u001b[39m\u001b[39mOnce\u001b[39m\u001b[39m'\u001b[39m)\n",
      "File \u001b[1;32mc:\\Users\\Thomas Ales\\.conda\\envs\\deddaq\\lib\\site-packages\\vimba\\util\\tracer.py:134\u001b[0m, in \u001b[0;36mTraceEnable.__call__.<locals>.wrapper\u001b[1;34m(*args, **kwargs)\u001b[0m\n\u001b[0;32m    131\u001b[0m     \u001b[39mreturn\u001b[39;00m result\n\u001b[0;32m    133\u001b[0m \u001b[39melse\u001b[39;00m:\n\u001b[1;32m--> 134\u001b[0m     \u001b[39mreturn\u001b[39;00m func(\u001b[39m*\u001b[39margs, \u001b[39m*\u001b[39m\u001b[39m*\u001b[39mkwargs)\n",
      "File \u001b[1;32mc:\\Users\\Thomas Ales\\.conda\\envs\\deddaq\\lib\\site-packages\\vimba\\camera.py:362\u001b[0m, in \u001b[0;36mCamera.__enter__\u001b[1;34m(self)\u001b[0m\n\u001b[0;32m    359\u001b[0m \u001b[39m@TraceEnable\u001b[39m()\n\u001b[0;32m    360\u001b[0m \u001b[39mdef\u001b[39;00m \u001b[39m__enter__\u001b[39m(\u001b[39mself\u001b[39m):\n\u001b[0;32m    361\u001b[0m     \u001b[39mif\u001b[39;00m \u001b[39mnot\u001b[39;00m \u001b[39mself\u001b[39m\u001b[39m.\u001b[39m__context_cnt:\n\u001b[1;32m--> 362\u001b[0m         \u001b[39mself\u001b[39;49m\u001b[39m.\u001b[39;49m_open()\n\u001b[0;32m    364\u001b[0m     \u001b[39mself\u001b[39m\u001b[39m.\u001b[39m__context_cnt \u001b[39m+\u001b[39m\u001b[39m=\u001b[39m \u001b[39m1\u001b[39m\n\u001b[0;32m    365\u001b[0m     \u001b[39mreturn\u001b[39;00m \u001b[39mself\u001b[39m\n",
      "File \u001b[1;32mc:\\Users\\Thomas Ales\\.conda\\envs\\deddaq\\lib\\site-packages\\vimba\\util\\tracer.py:134\u001b[0m, in \u001b[0;36mTraceEnable.__call__.<locals>.wrapper\u001b[1;34m(*args, **kwargs)\u001b[0m\n\u001b[0;32m    131\u001b[0m     \u001b[39mreturn\u001b[39;00m result\n\u001b[0;32m    133\u001b[0m \u001b[39melse\u001b[39;00m:\n\u001b[1;32m--> 134\u001b[0m     \u001b[39mreturn\u001b[39;00m func(\u001b[39m*\u001b[39margs, \u001b[39m*\u001b[39m\u001b[39m*\u001b[39mkwargs)\n",
      "File \u001b[1;32mc:\\Users\\Thomas Ales\\.conda\\envs\\deddaq\\lib\\site-packages\\vimba\\util\\context_decorator.py:44\u001b[0m, in \u001b[0;36mEnterContextOnCall.__call__.<locals>.wrapper\u001b[1;34m(*args, **kwargs)\u001b[0m\n\u001b[0;32m     41\u001b[0m \u001b[39m@functools\u001b[39m\u001b[39m.\u001b[39mwraps(func)\n\u001b[0;32m     42\u001b[0m \u001b[39mdef\u001b[39;00m \u001b[39mwrapper\u001b[39m(\u001b[39m*\u001b[39margs, \u001b[39m*\u001b[39m\u001b[39m*\u001b[39mkwargs):\n\u001b[0;32m     43\u001b[0m     args[\u001b[39m0\u001b[39m]\u001b[39m.\u001b[39m_context_entered \u001b[39m=\u001b[39m \u001b[39mTrue\u001b[39;00m\n\u001b[1;32m---> 44\u001b[0m     \u001b[39mreturn\u001b[39;00m func(\u001b[39m*\u001b[39margs, \u001b[39m*\u001b[39m\u001b[39m*\u001b[39mkwargs)\n",
      "File \u001b[1;32mc:\\Users\\Thomas Ales\\.conda\\envs\\deddaq\\lib\\site-packages\\vimba\\camera.py:924\u001b[0m, in \u001b[0;36mCamera._open\u001b[1;34m(self)\u001b[0m\n\u001b[0;32m    921\u001b[0m     \u001b[39melse\u001b[39;00m:\n\u001b[0;32m    922\u001b[0m         exc \u001b[39m=\u001b[39m VimbaCameraError(\u001b[39mrepr\u001b[39m(err))\n\u001b[1;32m--> 924\u001b[0m     \u001b[39mraise\u001b[39;00m exc \u001b[39mfrom\u001b[39;00m \u001b[39me\u001b[39;00m\n\u001b[0;32m    926\u001b[0m \u001b[39mself\u001b[39m\u001b[39m.\u001b[39m__feats \u001b[39m=\u001b[39m discover_features(\u001b[39mself\u001b[39m\u001b[39m.\u001b[39m__handle)\n\u001b[0;32m    927\u001b[0m attach_feature_accessors(\u001b[39mself\u001b[39m, \u001b[39mself\u001b[39m\u001b[39m.\u001b[39m__feats)\n",
      "\u001b[1;31mVimbaCameraError\u001b[0m: Accessed Camera 'DEV_1AB22C0109A3' with invalid Mode 'AccessMode.Full'. Valid modes are: (<AccessMode.None_: 0>,)"
     ]
    }
   ],
   "source": [
    "frame = ''\n",
    "with Vimba.get_instance() as vim:\n",
    "    cams = vim.get_all_cameras()\n",
    "    with cams[0] as cam:\n",
    "        print(cam.get_id())\n",
    "        cam.ExposureAuto.set('Once')\n",
    "        frame = cam.get_frame()\n",
    "        plt.imshow(frame.as_numpy_ndarray())\n",
    "\n"
   ]
  },
  {
   "cell_type": "code",
   "execution_count": null,
   "metadata": {},
   "outputs": [],
   "source": [
    "class MonoCamera:\n",
    "\n",
    "    def __init__(self):\n",
    "        self."
   ]
  },
  {
   "cell_type": "code",
   "execution_count": null,
   "metadata": {},
   "outputs": [],
   "source": []
  }
 ],
 "metadata": {
  "kernelspec": {
   "display_name": "Python 3.10.6 ('deddaq')",
   "language": "python",
   "name": "python3"
  },
  "language_info": {
   "codemirror_mode": {
    "name": "ipython",
    "version": 3
   },
   "file_extension": ".py",
   "mimetype": "text/x-python",
   "name": "python",
   "nbconvert_exporter": "python",
   "pygments_lexer": "ipython3",
   "version": "3.10.6"
  },
  "orig_nbformat": 4,
  "vscode": {
   "interpreter": {
    "hash": "d15f85994351e8867157f6e63aa170e9d252c2db95338e79e8d51d78315aa94a"
   }
  }
 },
 "nbformat": 4,
 "nbformat_minor": 2
}
