{
 "cells": [
  {
   "cell_type": "code",
   "execution_count": 2,
   "metadata": {},
   "outputs": [],
   "source": [
    "from vimba import *\n",
    "import pyqtgraph as pg"
   ]
  },
  {
   "cell_type": "code",
   "execution_count": 4,
   "metadata": {},
   "outputs": [
    {
     "name": "stdout",
     "output_type": "stream",
     "text": [
      "Found ID: DEV_1AB22C0109A3\tModel: 1800 U-158m\n"
     ]
    }
   ],
   "source": [
    "with Vimba.get_instance() as vi:\n",
    "    cams = vi.get_all_cameras()\n",
    "    with cams[0] as camera:\n",
    "        print(\"Found ID: {0}\\tModel: {1}\".format(camera.get_id(), camera.get_model()))"
   ]
  },
  {
   "cell_type": "code",
   "execution_count": 5,
   "metadata": {},
   "outputs": [],
   "source": [
    "def vimba_callback_test(monocam: Camera, frame: Frame):\n",
    "    pg.show(frame.as_numpy_ndarray())\n",
    "    monocam.queue_frame(frame)\n",
    "    return"
   ]
  },
  {
   "cell_type": "code",
   "execution_count": null,
   "metadata": {},
   "outputs": [],
   "source": [
    "with Vimba.get_instance() as vi:\n",
    "    cams = vi.get_all_cameras()\n",
    "    with cams[0] as camera:\n",
    "        camera.start_streaming(vimba_callback_test, 10)"
   ]
  }
 ],
 "metadata": {
  "kernelspec": {
   "display_name": "Python 3.10.6 ('deddaq')",
   "language": "python",
   "name": "python3"
  },
  "language_info": {
   "codemirror_mode": {
    "name": "ipython",
    "version": 3
   },
   "file_extension": ".py",
   "mimetype": "text/x-python",
   "name": "python",
   "nbconvert_exporter": "python",
   "pygments_lexer": "ipython3",
   "version": "3.10.6"
  },
  "orig_nbformat": 4,
  "vscode": {
   "interpreter": {
    "hash": "d15f85994351e8867157f6e63aa170e9d252c2db95338e79e8d51d78315aa94a"
   }
  }
 },
 "nbformat": 4,
 "nbformat_minor": 2
}
